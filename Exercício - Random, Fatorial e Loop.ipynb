{
 "cells": [
  {
   "cell_type": "code",
   "execution_count": 9,
   "id": "8380fabe",
   "metadata": {},
   "outputs": [
    {
     "name": "stdout",
     "output_type": "stream",
     "text": [
      "Antes do laço.\n",
      "0, 1, 2, 3, 4, 5, FIM\n",
      "Depois do laço.\n"
     ]
    }
   ],
   "source": [
    "print('Antes do laço.')\n",
    "for i in range(0,6,1):\n",
    "    print(i, end = ', ')\n",
    "print('FIM')\n",
    "print('Depois do laço.')"
   ]
  },
  {
   "cell_type": "code",
   "execution_count": 10,
   "id": "dce17c31",
   "metadata": {},
   "outputs": [
    {
     "name": "stdout",
     "output_type": "stream",
     "text": [
      "Antes do laço.\n",
      "0, 1, 2, FIM\n",
      "Depois do laço.\n"
     ]
    }
   ],
   "source": [
    "print('Antes do laço.')\n",
    "for i in range(0,6,1):\n",
    "    if (i == 3):\n",
    "        break\n",
    "    print(i, end = ', ')\n",
    "print('FIM')\n",
    "print('Depois do laço.')"
   ]
  },
  {
   "cell_type": "code",
   "execution_count": 11,
   "id": "9c2d06a5",
   "metadata": {},
   "outputs": [
    {
     "name": "stdout",
     "output_type": "stream",
     "text": [
      "Antes do laço.\n",
      "0, 1, 2, 4, 5, FIM\n",
      "Depois do laço.\n"
     ]
    }
   ],
   "source": [
    "print('Antes do laço.')\n",
    "for i in range(0,6,1):\n",
    "    if (i == 3):\n",
    "        continue\n",
    "    print(i, end = ', ')\n",
    "print('FIM')\n",
    "print('Depois do laço.')"
   ]
  },
  {
   "cell_type": "code",
   "execution_count": 14,
   "id": "0eb02a40",
   "metadata": {},
   "outputs": [
    {
     "name": "stdout",
     "output_type": "stream",
     "text": [
      "Entre com um número >= 0: 4\n",
      "O fatorial de 4 é 24.\n"
     ]
    }
   ],
   "source": [
    "n = -4\n",
    "while (n < 0):\n",
    "    n = int(input(\"Entre com um número >= 0: \"))\n",
    "    \n",
    "f = 1\n",
    "for i in range(1,n+1,1):\n",
    "    f = f*i\n",
    "print(f'O fatorial de {n} é {f}.')"
   ]
  },
  {
   "cell_type": "code",
   "execution_count": 18,
   "id": "5199b642",
   "metadata": {},
   "outputs": [
    {
     "name": "stdout",
     "output_type": "stream",
     "text": [
      "1o número (0 ou 1): 0\n",
      "2o número (0 ou 1): 5\n",
      "Número digitado: 5\n",
      "2o número (0 ou 1): 1\n",
      "3o número (0 ou 1): 4\n",
      "Número digitado: 4\n",
      "3o número (0 ou 1): 7\n",
      "Número digitado: 7\n",
      "3o número (0 ou 1): 1\n",
      "4o número (0 ou 1): 1\n",
      "5o número (0 ou 1): 0\n"
     ]
    }
   ],
   "source": [
    "for i in range(0,5,1):\n",
    "    while True:\n",
    "        num = int(input(f'{i+1}o número (0 ou 1): '))\n",
    "        if num == 0 or num == 1:\n",
    "            break\n",
    "        print(f'Número digitado: {num}')"
   ]
  },
  {
   "cell_type": "code",
   "execution_count": 17,
   "id": "eea25b37",
   "metadata": {},
   "outputs": [
    {
     "name": "stdout",
     "output_type": "stream",
     "text": [
      "1o número (0 ou 1): 5\n",
      "Número digitado: 5\n",
      "1o número (0 ou 1): 4\n",
      "Número digitado: 4\n",
      "1o número (0 ou 1): 1\n",
      "2o número (0 ou 1): 0\n",
      "3o número (0 ou 1): 0\n",
      "4o número (0 ou 1): 1\n",
      "5o número (0 ou 1): 1\n"
     ]
    }
   ],
   "source": [
    "for i in range(0,5,1):\n",
    "    while True:\n",
    "        num = int(input(f'{i+1}o número (0 ou 1): '))\n",
    "        if num >= 0 and num <= 1:\n",
    "            break\n",
    "        print(f'Número digitado: {num}')"
   ]
  },
  {
   "cell_type": "code",
   "execution_count": 4,
   "id": "1828bcf0",
   "metadata": {},
   "outputs": [
    {
     "name": "stdout",
     "output_type": "stream",
     "text": [
      "1o número: 5\n",
      "O número é positivo.\n",
      "2o número: -1\n",
      "O número é negativo.\n",
      "3o número: 0\n",
      "O número é nulo.\n",
      "4o número: 1\n",
      "O número é positivo.\n",
      "5o número: 21\n",
      "O número é positivo.\n",
      "6o número: -4\n",
      "O número é negativo.\n",
      "7o número: 0\n",
      "O número é nulo.\n",
      "8o número: 14\n",
      "O número é positivo.\n",
      "9o número: 5\n",
      "O número é positivo.\n",
      "10o número: 6\n",
      "O número é positivo.\n",
      "Quantidade de números positivos: 6\n",
      "Quantidade de números negativos: 2\n",
      "Quantidade de números zeros: 2\n"
     ]
    }
   ],
   "source": [
    "pos = neg = zero = 0\n",
    "for i in range(10):\n",
    "        num = int(input(f'{i+1}o número: '))\n",
    "        if num > 0:\n",
    "            pos += 1\n",
    "            print(f'O número é positivo.')\n",
    "        elif num < 0:\n",
    "            neg += 1\n",
    "            print(f'O número é negativo.')\n",
    "        else:\n",
    "            zero += 1\n",
    "            print(f'O número é nulo.')\n",
    "    \n",
    "    \n",
    "    \n",
    "print(f'Quantidade de números positivos: {pos}')\n",
    "print(f'Quantidade de números negativos: {neg}')\n",
    "print(f'Quantidade de números zeros: {zero}')"
   ]
  },
  {
   "cell_type": "code",
   "execution_count": 2,
   "id": "604fd573",
   "metadata": {},
   "outputs": [
    {
     "name": "stdout",
     "output_type": "stream",
     "text": [
      "Digite um número: 5\n",
      "O número é positivo.\n",
      "Digite um número: -1\n",
      "O número é negativo.\n",
      "Digite um número: 0\n",
      "O número é nulo.\n",
      "Digite um número: 14\n",
      "O número é positivo.\n",
      "Digite um número: 12\n",
      "O número é positivo.\n",
      "Digite um número: 0\n",
      "O número é nulo.\n",
      "Digite um número: 0\n",
      "O número é nulo.\n",
      "Digite um número: -5\n",
      "O número é negativo.\n",
      "Digite um número: -4\n",
      "O número é negativo.\n",
      "Digite um número: -6\n",
      "O número é negativo.\n",
      "Quantidade de números positivos: 3\n",
      "Quantidade de números negativos: 4\n",
      "Quantidade de números zeros: 3\n",
      "Porcentagem de números positivos:  30.00%\n",
      "Porcentagem de números negativos:  40.00%\n",
      "Porcentagem de números zeros:  30.00%\n"
     ]
    }
   ],
   "source": [
    "pos = neg = zero = c = 0\n",
    "while c != 10:\n",
    "    c += 1\n",
    "    num = int(input(\"Digite um número: \"))\n",
    "    if num > 0:\n",
    "        pos += 1\n",
    "        print(f'O número é positivo.')\n",
    "    elif num < 0:\n",
    "        neg += 1\n",
    "        print(f'O número é negativo.')\n",
    "    else:\n",
    "        zero += 1\n",
    "        print(f'O número é nulo.')\n",
    "\n",
    "pcpos = (pos/10)*100\n",
    "pcneg = (neg/10)*100\n",
    "pczero = (zero/10)*100\n",
    "print(f'Quantidade de números positivos: {pos}')\n",
    "print(f'Quantidade de números negativos: {neg}')\n",
    "print(f'Quantidade de números zeros: {zero}')\n",
    "print(f'Porcentagem de números positivos: {pcpos: .2f}%')\n",
    "print(f'Porcentagem de números negativos: {pcneg: .2f}%')\n",
    "print(f'Porcentagem de números zeros: {pczero: .2f}%')"
   ]
  },
  {
   "cell_type": "code",
   "execution_count": 20,
   "id": "fdacaef9",
   "metadata": {},
   "outputs": [
    {
     "name": "stdout",
     "output_type": "stream",
     "text": [
      "Quantidade de números digitados: 5000\n",
      "4615\n"
     ]
    }
   ],
   "source": [
    "import random\n",
    "qtde_num = int(input('Quantidade de números digitados: '))\n",
    "contp, contn, contz = 0,0,0\n",
    "for i in range(qtde_num):\n",
    "    num = random.randint(0,qtde_num)\n",
    "    if (num>0):\n",
    "        contp += 1\n",
    "    elif (num<0):\n",
    "        contn+= 1\n",
    "    else:\n",
    "        contz+=1 \n",
    "print(num)\n",
    "    "
   ]
  },
  {
   "cell_type": "code",
   "execution_count": 21,
   "id": "faac24b2",
   "metadata": {},
   "outputs": [
    {
     "name": "stdout",
     "output_type": "stream",
     "text": [
      "Insira um valor: 4\n",
      "4X0=0\n",
      "4X1=4\n",
      "4X2=8\n",
      "4X3=12\n",
      "4X4=16\n",
      "4X5=20\n",
      "4X6=24\n",
      "4X7=28\n",
      "4X8=32\n",
      "4X9=36\n",
      "4X10=40\n"
     ]
    }
   ],
   "source": [
    "n = int(input('Insira um valor: '))\n",
    "for i in range(11):\n",
    "    print(f'{n}X{i}={n*i}')"
   ]
  },
  {
   "cell_type": "code",
   "execution_count": 22,
   "id": "78e6609d",
   "metadata": {},
   "outputs": [
    {
     "name": "stdout",
     "output_type": "stream",
     "text": [
      "Insira o 1º em Kg: 50\n",
      "Insira o 2º em Kg: 95\n",
      "Insira o 3º em Kg: 78\n",
      "Insira o 4º em Kg: 110\n",
      "Insira o 5º em Kg: 60\n",
      "Insira o 6º em Kg: 32\n",
      "Insira o 7º em Kg: 47\n",
      "A pessoa com o maior peso possui 110.0Kg.\n",
      "A pessoa com o menor peso possui 32.0Kg.\n"
     ]
    }
   ],
   "source": [
    "mai = men = 0\n",
    "for c in range(7):\n",
    "    \n",
    "    peso = float(input(f'Insira o {c+1}º em Kg: '))\n",
    "    if c == 0:\n",
    "        mai = men = peso \n",
    "    elif peso> mai:\n",
    "        mai=peso\n",
    "    elif peso < men:\n",
    "        men = peso \n",
    "        \n",
    "print(f'A pessoa com o maior peso possui {mai}Kg.')\n",
    "print(f'A pessoa com o menor peso possui {men}Kg.')"
   ]
  },
  {
   "cell_type": "code",
   "execution_count": 23,
   "id": "70c6b2e3",
   "metadata": {},
   "outputs": [
    {
     "name": "stdout",
     "output_type": "stream",
     "text": [
      "-=-=-=-=-=-=-=-=-=-=-=-=-=-=-=-=-=-=-=-=-=-=-=-=-=-=-=-=-=-=\n",
      "Para Pedra digite 1\n",
      "Para Papel digite 2\n",
      "Para Tesoura digite 3\n",
      "-=-=-=-=-=-=-=-=-=-=-=-=-=-=-=-=-=-=-=-=-=-=-=-=-=-=-=-=-=-=\n",
      "Digite sua escolha: 1\n",
      "\n",
      "Você escolheu Pedra, é o oponente Pedra\n",
      "Empate!\n"
     ]
    }
   ],
   "source": [
    "from random import randint\n",
    "from time import sleep\n",
    "print('-='*30)\n",
    "print('''Para Pedra digite 1\n",
    "Para Papel digite 2\n",
    "Para Tesoura digite 3''')\n",
    "print('-='*30)\n",
    "b = randint(1,3)\n",
    "a = int(input('Digite sua escolha: '))\n",
    "print()\n",
    "name = ['Pedra','Papel','Tesoura']\n",
    "if a == b:\n",
    "    print(f'Você escolheu {name[a-1]}, é o oponente {name[b-1]}')\n",
    "    print(\"Empate!\")\n",
    "elif a == 1 and b == 2: \n",
    "    print(f'Você escolheu {name[a-1]}, é o oponente {name[b-1]}')\n",
    "    print('Seu oponente venceu!')\n",
    "elif a == 1 and b == 3:\n",
    "    print(f'Você escolheu {name[a-1]}, é o oponente {name[b-1]}')\n",
    "    print('Você ganhou!')\n",
    "elif a == 2 and b == 1:\n",
    "    print(f'Você escolheu {name[a-1]}, é o oponente {name[b-1]}')\n",
    "    print('Você ganhou!')\n",
    "elif a == 2 and b == 3:\n",
    "    print(f'Você escolheu {name[a-1]}, é o oponente {name[b-1]}')\n",
    "    print('Seu oponente venceu!')"
   ]
  },
  {
   "cell_type": "code",
   "execution_count": null,
   "id": "d8057163",
   "metadata": {},
   "outputs": [],
   "source": []
  },
  {
   "cell_type": "code",
   "execution_count": null,
   "id": "c457725b",
   "metadata": {},
   "outputs": [],
   "source": []
  },
  {
   "cell_type": "code",
   "execution_count": null,
   "id": "87be52c5",
   "metadata": {},
   "outputs": [],
   "source": []
  },
  {
   "cell_type": "code",
   "execution_count": null,
   "id": "b09f611a",
   "metadata": {},
   "outputs": [],
   "source": []
  },
  {
   "cell_type": "code",
   "execution_count": null,
   "id": "59dc280c",
   "metadata": {},
   "outputs": [],
   "source": []
  },
  {
   "cell_type": "code",
   "execution_count": null,
   "id": "934f6b11",
   "metadata": {},
   "outputs": [],
   "source": []
  }
 ],
 "metadata": {
  "kernelspec": {
   "display_name": "Python 3 (ipykernel)",
   "language": "python",
   "name": "python3"
  },
  "language_info": {
   "codemirror_mode": {
    "name": "ipython",
    "version": 3
   },
   "file_extension": ".py",
   "mimetype": "text/x-python",
   "name": "python",
   "nbconvert_exporter": "python",
   "pygments_lexer": "ipython3",
   "version": "3.9.7"
  }
 },
 "nbformat": 4,
 "nbformat_minor": 5
}
