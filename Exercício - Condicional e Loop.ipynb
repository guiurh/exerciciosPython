{
 "cells": [
  {
   "cell_type": "code",
   "execution_count": 82,
   "id": "52dee18b",
   "metadata": {},
   "outputs": [
    {
     "name": "stdout",
     "output_type": "stream",
     "text": [
      "Insira o código do produto desejado: 20\n",
      "O produto carne bovina tem origem na região Centro Oeste.\n"
     ]
    }
   ],
   "source": [
    "prod = \"nada\"\n",
    "origem = \"nenhuma\"\n",
    "\n",
    "cod = input(\"Insira o código do produto desejado: \")\n",
    "if (cod == \"1\"):\n",
    "    prod = \"uva\"\n",
    "    origem = \"região Sul\"\n",
    "    print (f'O produto {prod} tem origem na {origem}.' )\n",
    "elif (cod == \"2\"):\n",
    "    prod = \"açaí\"\n",
    "    origem = \"região Norte\"\n",
    "    print (f'O produto {prod} tem origem na {origem}.' )\n",
    "elif (cod == \"3\"):\n",
    "    prod = \"amendoim\"\n",
    "    origem = \"região Leste\"\n",
    "    print (f'O produto {prod} tem origem na {origem}.' )\n",
    "elif (cod == \"4\"):\n",
    "    prod = \"milho\"\n",
    "    origem = \"região Oeste\"\n",
    "    print (f'O produto {prod} tem origem na {origem}.' )\n",
    "elif (cod == \"5\") or (cod == \"6\"):\n",
    "    prod = \"caju\"\n",
    "    origem = \"região Nordeste\"\n",
    "    print (f'O produto {prod} tem origem na {origem}.' )\n",
    "elif (cod == \"7\") or (cod == \"8\") or (cod == \"9\"):\n",
    "    prod = \"banana\"\n",
    "    origem = \"região Sudeste\"\n",
    "    print (f'O produto {prod} tem origem na {origem}.' )\n",
    "elif (cod >= \"10\") and (cod <= \"20\"):\n",
    "    prod = \"carne bovina\"\n",
    "    origem = \"região Centro Oeste\"\n",
    "    print (f'O produto {prod} tem origem na {origem}.' )\n",
    "else:\n",
    "    print(\"Código de Origem Inválido!\")\n",
    "        \n",
    "    \n",
    "\n",
    "    \n",
    "\n",
    "    \n",
    "    "
   ]
  },
  {
   "cell_type": "code",
   "execution_count": 86,
   "id": "8c045de9",
   "metadata": {},
   "outputs": [
    {
     "name": "stdout",
     "output_type": "stream",
     "text": [
      "Tabuada do número: 3\n",
      "Começa em: 10\n",
      "Termina em: 1\n",
      "ERRO: Insira um número final maior que o inicial.\n"
     ]
    }
   ],
   "source": [
    "tab = int(input(\"Tabuada do número: \"))\n",
    "começo = int(input(\"Começa em: \"))\n",
    "final = int(input(\"Termina em: \"))\n",
    "\n",
    "if (final < começo):\n",
    "        print(\"ERRO: Insira um número final maior que o inicial.\")\n",
    "            \n",
    "\n",
    "for i in range(começo, final+1, 1):\n",
    "     print(f'{tab} x {i} = {tab*i}')\n",
    "       \n",
    "        \n",
    "        \n",
    "    \n",
    "    \n",
    "    "
   ]
  },
  {
   "cell_type": "code",
   "execution_count": 2,
   "id": "2bd82907",
   "metadata": {},
   "outputs": [
    {
     "name": "stdout",
     "output_type": "stream",
     "text": [
      "Insira um código de voto: 1\n",
      "Insira um código de voto: 1\n",
      "Insira um código de voto: 2\n",
      "Insira um código de voto: 1\n",
      "Insira um código de voto: 2\n",
      "Insira um código de voto: 3\n",
      "Insira um código de voto: 4\n",
      "Insira um código de voto: 5\n",
      "Insira um código de voto: 4\n",
      "Insira um código de voto: 4\n",
      "Insira um código de voto: 5\n",
      "Insira um código de voto: 1\n",
      "Insira um código de voto: 0\n",
      "Percentual de votos do Candidato 1:  33.33%\n",
      "Percentual de votos do Candidato 2:  16.67%\n",
      "Percentual de votos do Candidato 3:  8.33%\n",
      "Percentual de votos nulos:  25.00%\n",
      "Percentual de votos em branco:  16.67%\n"
     ]
    }
   ],
   "source": [
    "cand1 = 0\n",
    "cand2 = 0\n",
    "cand3 = 0\n",
    "nulo = 0\n",
    "branco = 0\n",
    "qtdevoto = 0\n",
    "while True:\n",
    "    voto = int(input(\"Insira um código de voto: \"))\n",
    "    if (voto == 0):\n",
    "        break\n",
    "    if (voto == 1):\n",
    "        cand1 = cand1 + 1\n",
    "    elif (voto == 2):\n",
    "        cand2 = cand2 + 1\n",
    "    elif (voto == 3):\n",
    "        cand3 = cand3 + 1\n",
    "    elif (voto == 4):\n",
    "        nulo = nulo + 1\n",
    "    elif (voto == 5):\n",
    "        branco = branco + 1\n",
    "    \n",
    "        \n",
    "    qtdevoto = qtdevoto + 1\n",
    "        \n",
    "print(f'Percentual de votos do Candidato 1: {(cand1/qtdevoto)*100: .2f}%')\n",
    "print(f'Percentual de votos do Candidato 2: {(cand2/qtdevoto)*100: .2f}%')        \n",
    "print(f'Percentual de votos do Candidato 3: {(cand3/qtdevoto)*100: .2f}%')\n",
    "print(f'Percentual de votos nulos: {(nulo/qtdevoto)*100: .2f}%')\n",
    "print(f'Percentual de votos em branco: {(branco/qtdevoto)*100: .2f}%')"
   ]
  },
  {
   "cell_type": "code",
   "execution_count": null,
   "id": "0be33d82",
   "metadata": {},
   "outputs": [],
   "source": []
  },
  {
   "cell_type": "code",
   "execution_count": null,
   "id": "088b573a",
   "metadata": {},
   "outputs": [],
   "source": []
  }
 ],
 "metadata": {
  "kernelspec": {
   "display_name": "Python 3 (ipykernel)",
   "language": "python",
   "name": "python3"
  },
  "language_info": {
   "codemirror_mode": {
    "name": "ipython",
    "version": 3
   },
   "file_extension": ".py",
   "mimetype": "text/x-python",
   "name": "python",
   "nbconvert_exporter": "python",
   "pygments_lexer": "ipython3",
   "version": "3.9.7"
  }
 },
 "nbformat": 4,
 "nbformat_minor": 5
}
