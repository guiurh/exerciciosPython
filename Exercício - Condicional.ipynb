{
 "cells": [
  {
   "cell_type": "code",
   "execution_count": 20,
   "id": "90b8e30b",
   "metadata": {},
   "outputs": [
    {
     "name": "stdout",
     "output_type": "stream",
     "text": [
      "Insira um número: 1\n",
      "Insira outro número: 2\n",
      "2.0 é maior que 1.0.\n"
     ]
    }
   ],
   "source": [
    "a = float(input(\"Insira um número: \"))\n",
    "b = float(input(\"Insira outro número: \"))\n",
    "\n",
    "if (a > b):\n",
    "    print(f'{a} é maior que {b}.')\n",
    "elif (a == b):\n",
    "    print(f'{a} e {b} são iguais.')\n",
    "else:\n",
    "    print(f'{b} é maior que {a}.')\n",
    "    "
   ]
  },
  {
   "cell_type": "code",
   "execution_count": 21,
   "id": "5adfb039",
   "metadata": {},
   "outputs": [
    {
     "name": "stdout",
     "output_type": "stream",
     "text": [
      "Insira um número: 2\n",
      "2.0 é par.\n"
     ]
    }
   ],
   "source": [
    "a = float(input(\"Insira um número: \"))\n",
    "\n",
    "if (a % 2 == 0):\n",
    "    print(f'{a} é par.')\n",
    "elif (a % 2 != 0):\n",
    "    print(f'{a} é impar.')"
   ]
  },
  {
   "cell_type": "code",
   "execution_count": 22,
   "id": "edf532c7",
   "metadata": {},
   "outputs": [
    {
     "name": "stdout",
     "output_type": "stream",
     "text": [
      "Insira seu sexo: F - Feminino / M - Masculino: M\n",
      "Você é do sexo masculino.\n"
     ]
    }
   ],
   "source": [
    "a = input(\"Insira seu sexo: F - Feminino / M - Masculino: \")\n",
    "\n",
    "if (a == \"m\") or (a == \"M\"):\n",
    "    print(\"Você é do sexo masculino.\")\n",
    "elif (a == \"F\") or (a == \"f\"):\n",
    "    print(\"Você é do sexo feminino.\")\n",
    "else:\n",
    "    print(\"Sexo Inválido.\")\n",
    "    "
   ]
  },
  {
   "cell_type": "code",
   "execution_count": 11,
   "id": "bcf72958",
   "metadata": {},
   "outputs": [
    {
     "name": "stdout",
     "output_type": "stream",
     "text": [
      "Insira uma letra: b\n",
      "b é consoante.\n"
     ]
    }
   ],
   "source": [
    "a = input(\"Insira uma letra: \")\n",
    "\n",
    "if (a == \"a\") or (a == \"A\") or (a == \"e\") or (a == \"E\") or (a == \"i\") or (a == \"I\") or (a == \"o\") or (a == \"O\") or (a == \"u\") or (a == \"U\"):\n",
    "    print(f'{a} é vogal.')\n",
    "\n",
    "else:\n",
    "    print(f'{a} é consoante.')\n",
    "    "
   ]
  },
  {
   "cell_type": "code",
   "execution_count": 19,
   "id": "fd212200",
   "metadata": {},
   "outputs": [
    {
     "name": "stdout",
     "output_type": "stream",
     "text": [
      "Nota 1: 10\n",
      "Nota 2: 10\n",
      "Aprovado com Distinção\n"
     ]
    }
   ],
   "source": [
    "a = float(input(\"Nota 1: \"))\n",
    "b = float(input(\"Nota 2: \"))\n",
    "\n",
    "media = (a+b)/2\n",
    "\n",
    "if (media == 10):\n",
    "    print(\"Aprovado com Distinção\")\n",
    "elif (media >= 7):\n",
    "    print(\"Aprovado\")\n",
    "elif (media < 7):\n",
    "    print(\"Reprovado\")"
   ]
  },
  {
   "cell_type": "code",
   "execution_count": 25,
   "id": "d7abdad9",
   "metadata": {},
   "outputs": [
    {
     "name": "stdout",
     "output_type": "stream",
     "text": [
      "1º número: 1\n",
      "2º número: 1\n",
      "3º número: 1\n",
      "Os números são iguais.\n"
     ]
    }
   ],
   "source": [
    "a = float(input(\"1º número: \"))\n",
    "b = float(input(\"2º número: \"))\n",
    "c = float(input(\"3º número: \"))\n",
    "\n",
    "if (a > b) and (a > c):\n",
    "    print(f'{a} é maior que {b} e {c}.')\n",
    "elif (b > a) and (b > c):\n",
    "    print(f'{b} é maior que {a} e {c}.')\n",
    "elif (c > a) and (c > b):\n",
    "    print(f'{c} é maior que {a} e {b}.')\n",
    "elif (a == b) and (a == c):\n",
    "    print(\"Os números são iguais.\")"
   ]
  },
  {
   "cell_type": "code",
   "execution_count": 27,
   "id": "3228e671",
   "metadata": {},
   "outputs": [
    {
     "name": "stdout",
     "output_type": "stream",
     "text": [
      "1º número: 5\n",
      "2º número: 5\n",
      "3º número: 5\n",
      "Os números são iguais.\n"
     ]
    }
   ],
   "source": [
    "a = float(input(\"1º número: \"))\n",
    "b = float(input(\"2º número: \"))\n",
    "c = float(input(\"3º número: \"))\n",
    "\n",
    "if (a < b) and (a < c):\n",
    "    print(f'{a} é menor que {b} e {c}.')\n",
    "elif (b < a) and (b < c):\n",
    "    print(f'{b} é menor que {a} e {c}.')\n",
    "elif (c < a) and (c < b):\n",
    "    print(f'{c} é menor que {a} e {b}.')\n",
    "elif (a == b) and (a == c):\n",
    "    print(\"Os números são iguais.\")"
   ]
  },
  {
   "cell_type": "code",
   "execution_count": 29,
   "id": "b8786005",
   "metadata": {},
   "outputs": [
    {
     "name": "stdout",
     "output_type": "stream",
     "text": [
      "Valor do 1º produto: 1\n",
      "Valor do 2º produto: 4\n",
      "Valor do 3º produto: 5\n",
      "O 1º produto é o mais barato.\n"
     ]
    }
   ],
   "source": [
    "a = float(input(\"Valor do 1º produto: \"))\n",
    "b = float(input(\"Valor do 2º produto: \"))\n",
    "c = float(input(\"Valor do 3º produto: \"))\n",
    "\n",
    "if (a < b) and (a < c):\n",
    "    print(f'O 1º produto é o mais barato.')\n",
    "elif (b < a) and (b < c):\n",
    "    print(f'O 2º produto é o mais barato.')\n",
    "elif (c < a) and (c < b):\n",
    "    print(f'O 3º produto é o mais barato.')\n",
    "elif (a == b) and (a == c):\n",
    "    print(\"Os preços são iguais.\")"
   ]
  },
  {
   "cell_type": "code",
   "execution_count": null,
   "id": "ec11464b",
   "metadata": {},
   "outputs": [],
   "source": [
    "a = float(input(\"1º número: \"))\n",
    "b = float(input(\"2º número: \"))\n",
    "c = float(input(\"3º número: \"))\n",
    "\n",
    "\n",
    "if (a > b) and (b > c):\n",
    "    print(f'{a}; {b}; {c}')\n",
    "elif (a > c) and (c > b):\n",
    "    print(f'{a}, {c}, {b}')\n",
    "elif (b > a) and (a > c):\n",
    "    print(f'{b}; {a}; {c}')\n",
    "elif (b > c) and {c > a}:\n",
    "    print(f'{b}; {c}; {a}')\n",
    "elif (c > a) and (a > b):\n",
    "    print(f'{c}; {a}; {b}')\n",
    "elif (c > b) and (b > a):\n",
    "    print(f'{c}; {b}; {a}')\n"
   ]
  },
  {
   "cell_type": "code",
   "execution_count": 48,
   "id": "72df8fbf",
   "metadata": {},
   "outputs": [
    {
     "name": "stdout",
     "output_type": "stream",
     "text": [
      "Em que turno você estuda? Insira 'M' para matutino, 'V' para vespertino e 'N' para noturno: v\n",
      "ERRO! Tente novamente.\n"
     ]
    }
   ],
   "source": [
    "a = input(\"Em que turno você estuda? Insira 'M' para matutino, 'V' para vespertino e 'N' para noturno: \")\n",
    "\n",
    "if (a == 'M'):\n",
    "          print(\"Bom dia!\")\n",
    "elif (a == 'V'):\n",
    "          print(\"Boa tarde!\")\n",
    "elif (a == 'N'):\n",
    "          print(\"Boa noite!\")\n",
    "else:\n",
    "          print(\"ERRO! Tente novamente.\")"
   ]
  },
  {
   "cell_type": "code",
   "execution_count": 55,
   "id": "3e602d0c",
   "metadata": {},
   "outputs": [
    {
     "name": "stdout",
     "output_type": "stream",
     "text": [
      "Escolha um dia: 1 - Domingo; 2 - Segunda; 3 - Terça; 4 - Quarta; 5 - Quinta; 6 - Sexta; 7 - Sábado: 3\n",
      "Você escolheu terça-feira.\n"
     ]
    }
   ],
   "source": [
    "a = int(input(\"Escolha um dia: 1 - Domingo; 2 - Segunda; 3 - Terça; 4 - Quarta; 5 - Quinta; 6 - Sexta; 7 - Sábado: \"))\n",
    "\n",
    "if (a == 1):\n",
    "    print(\"Você escolheu domingo.\")\n",
    "elif (a == 2):\n",
    "    print(\"Você escolheu segunda-feira.\")\n",
    "elif (a == 3):\n",
    "    print(\"Você escolheu terça-feira.\")\n",
    "elif (a == 4):\n",
    "    print(\"Você escolheu quarta-feira.\")\n",
    "elif (a == 5):\n",
    "    print(\"Você escolheu quinta-feira.\")\n",
    "elif (a == 6):\n",
    "    print(\"Você escolheu sexta-feira.\")\n",
    "elif (a == 7):\n",
    "    print(\"Você escolheu sábado.\")\n",
    "else:\n",
    "    print(\"ERRO! Tente novamente.\")"
   ]
  },
  {
   "cell_type": "code",
   "execution_count": null,
   "id": "dc1524c6",
   "metadata": {},
   "outputs": [],
   "source": []
  }
 ],
 "metadata": {
  "kernelspec": {
   "display_name": "Python 3 (ipykernel)",
   "language": "python",
   "name": "python3"
  },
  "language_info": {
   "codemirror_mode": {
    "name": "ipython",
    "version": 3
   },
   "file_extension": ".py",
   "mimetype": "text/x-python",
   "name": "python",
   "nbconvert_exporter": "python",
   "pygments_lexer": "ipython3",
   "version": "3.9.7"
  }
 },
 "nbformat": 4,
 "nbformat_minor": 5
}
