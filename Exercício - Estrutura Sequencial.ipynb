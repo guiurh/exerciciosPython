{
 "cells": [
  {
   "cell_type": "markdown",
   "metadata": {
    "colab_type": "text",
    "id": "G0UuiH8Jqa5i"
   },
   "source": [
    "### Exercícios: Estrutura Sequencial em Python\n",
    "#### Em uma Estrutura Sequencial, os comandos do algoritmo são executados em uma sequência linear: de cima para baixo, um após o outro, uma única vez. Assim, não ocorrem desvios e nem repetições na sequência das instruções."
   ]
  },
  {
   "cell_type": "markdown",
   "metadata": {},
   "source": [
    "1 - 1.0 ponto) Elaborar um algoritmo para calcular e imprimir a expressão X = (A+B)/(A-B), sabendo-se que A e B são números reais lidos do teclado."
   ]
  },
  {
   "cell_type": "code",
   "execution_count": 7,
   "metadata": {},
   "outputs": [
    {
     "name": "stdout",
     "output_type": "stream",
     "text": [
      "O valor de A é: 6.5\n",
      "O valor de B é: 5.5\n",
      " O resultado da expressão X = (A+B)/(A-B) é: 12.0\n"
     ]
    }
   ],
   "source": [
    "letraA = float(input(\"O valor de A é: \"))\n",
    "letraB = float(input(\"O valor de B é: \"))\n",
    "expressao = (letraA + letraB) / (letraA - letraB)\n",
    "\n",
    "print(f' O resultado da expressão X = (A+B)/(A-B) é: {expressao}') "
   ]
  },
  {
   "cell_type": "markdown",
   "metadata": {},
   "source": [
    "2 - 1.0 ponto) Para vários tributos, a base de cálculo é o salário mínimo. Elaborar um algoritmo que leia o valor do salário mínimo e o valor do salário de uma pessoa. Deve-se calcular e imprimir quantos salários mínimos ele ganha."
   ]
  },
  {
   "cell_type": "code",
   "execution_count": 8,
   "metadata": {},
   "outputs": [
    {
     "name": "stdout",
     "output_type": "stream",
     "text": [
      "O meu salário é: R$ 2424\n",
      "O meu salário é equivalente a 2.0 salário(s) mínimo(s).\n"
     ]
    }
   ],
   "source": [
    "salmin = 1212\n",
    "salariopessoa = float(input(\"O meu salário é: R$ \"))\n",
    "qtsalmin = salariopessoa/salmin\n",
    "\n",
    "print(f'O meu salário é equivalente a {qtsalmin} salário(s) mínimo(s).')\n",
    "\n"
   ]
  },
  {
   "cell_type": "markdown",
   "metadata": {},
   "source": [
    "3 - 1.0 ponto) Elaborar um algoritmo para ler o peso de uma pessoa em quilos, calcular e imprimir: o peso da pessoa em gramas e o novo peso, em gramas, se a pessoa engordar 12%."
   ]
  },
  {
   "cell_type": "code",
   "execution_count": 9,
   "metadata": {},
   "outputs": [
    {
     "name": "stdout",
     "output_type": "stream",
     "text": [
      "O meu peso em quilos é: 80\n",
      "O meu peso em gramas é: 80000.0\n",
      "Se eu engordar 12%, eu ficarei com 9600.0 gramas\n"
     ]
    }
   ],
   "source": [
    "pesopessoa = float(input(\"O meu peso em quilos é: \"))\n",
    "quilopgrama = pesopessoa*1000\n",
    "engordozepc = quilopgrama*12 / 100\n",
    "\n",
    "print(f'O meu peso em gramas é: {quilopgrama}')\n",
    "print(f'Se eu engordar 12%, eu ficarei com {engordozepc} gramas')\n",
    "\n",
    "\n",
    "\n"
   ]
  },
  {
   "cell_type": "markdown",
   "metadata": {},
   "source": [
    "4 - 1.0 ponto) Dado um polígono convexo de n lados, podemos calcular o número de diagonais diferentes (nd) desse polígono pela fórmula: nd = n(n-3)/2. Elaborar um algoritmo para ler quantos lados tem um polígono, calcular e imprimir o número de diagonais diferentes (nd) do mesmo. "
   ]
  },
  {
   "cell_type": "code",
   "execution_count": 17,
   "metadata": {},
   "outputs": [
    {
     "name": "stdout",
     "output_type": "stream",
     "text": [
      "O número de lados do polígono é: 8\n",
      "O número de diagonais diferentes no polígono é 20.0.\n"
     ]
    }
   ],
   "source": [
    "nlados = float(input(\"O número de lados do polígono é: \"))\n",
    "ndiag = nlados*(nlados-3)/2\n",
    "\n",
    "print(f'O número de diagonais diferentes no polígono é {ndiag}.')"
   ]
  },
  {
   "cell_type": "markdown",
   "metadata": {},
   "source": [
    "5 - 1.0 ponto) Elaborar um algoritmo para ler a razão e o primeiro termo de uma Progressão Geométrica (PG). Deve-se calcular e imprimir o quinto e o décimo termo da PG. A fórmula para encontrar os termos de uma PG, onde a1 é o primeiro termo da PG e q é a razão da PG é: \\begin{equation*}\n",
    "a_{n} = a_{1}q^{(n-1)}\n",
    "\\end{equation*}"
   ]
  },
  {
   "cell_type": "code",
   "execution_count": 11,
   "metadata": {},
   "outputs": [
    {
     "name": "stdout",
     "output_type": "stream",
     "text": [
      "O primeiro termo é: 2\n",
      "A razão é: 2\n",
      "O quinto termo da PG é 32.\n",
      "O décimo termo da PG é 1024.\n"
     ]
    }
   ],
   "source": [
    "a1 = int(input(\"O primeiro termo é: \"))\n",
    "q = int(input(\"A razão é: \"))\n",
    "formula = a1*q**(1-1)\n",
    "\n",
    "print(f'O quinto termo da PG é {formula**5}.')\n",
    "print(f'O décimo termo da PG é {formula**10}.')\n",
    "\n"
   ]
  },
  {
   "cell_type": "markdown",
   "metadata": {},
   "source": [
    "6 - 1.0 ponto) Sabe-se que, para iluminar de maneira correta os cômodos de uma casa, para cada metro quadrado, deve-se usar 18W de potência. Elaborar um algoritmo que receba as duas dimensões de um cômodo (em metros), calcule e mostre a sua área (em metros quadrados) e a potência de iluminação que deverá ser utilizada."
   ]
  },
  {
   "cell_type": "code",
   "execution_count": 12,
   "metadata": {},
   "outputs": [
    {
     "name": "stdout",
     "output_type": "stream",
     "text": [
      "A largura em metros é: 8\n",
      "O comprimento em metros é: 8\n",
      "A área da casa é 64.0 m², logo, utilizaremos 1152.0 W no total.\n"
     ]
    }
   ],
   "source": [
    "larg = float(input(\"A largura em metros é: \"))\n",
    "comp = float(input(\"O comprimento em metros é: \"))\n",
    "area = larg*comp\n",
    "pot = area*18\n",
    "\n",
    "print(f'A área da casa é {area} m², logo, utilizaremos {pot} W no total.')"
   ]
  },
  {
   "cell_type": "markdown",
   "metadata": {},
   "source": [
    "7 - 1.0 ponto) Elaborar um algoritmo para ler o valor do raio e calcular a área, comprimento e volume de uma esfera. O cálculo da área de uma esfera é dado pela fórmula: $A = 4.pi.r^{2}$. O cálculo do comprimento de uma esfera é dado pela fórmula: $C = 2.pi.r$. O cálculo do volume de uma esfera é dado pela fórmula: $V = 4/3.pi.r^{3}$."
   ]
  },
  {
   "cell_type": "code",
   "execution_count": 13,
   "metadata": {},
   "outputs": [
    {
     "name": "stdout",
     "output_type": "stream",
     "text": [
      "O raio é: 4\n",
      "A área da esfera é 201.06192982974676 m².\n",
      "O comprimento da esfera é 25.132741228718345 m.\n",
      "O volume da esfera é 268.082573106329 m³.\n"
     ]
    }
   ],
   "source": [
    "from math import pi\n",
    "\n",
    "r = float(input(\"O raio é: \"))\n",
    "areae = 4*pi*r**2\n",
    "compe = 2*pi*r\n",
    "vole = 4/3*pi*r**3\n",
    "\n",
    "print(f'A área da esfera é {areae} m².')\n",
    "print(f'O comprimento da esfera é {compe} m.')\n",
    "print(f'O volume da esfera é {vole} m³.')"
   ]
  },
  {
   "cell_type": "markdown",
   "metadata": {},
   "source": [
    "8 - 1.0 ponto) Elaborar um algoritmo para ler dois números inteiros e imprimir a seguinte saída: <br/>\n",
    "Divididendo: <br/> \n",
    "Divisor: <br/> \n",
    "Quociente: <br/>\n",
    "Resto:<br/>"
   ]
  },
  {
   "cell_type": "code",
   "execution_count": 14,
   "metadata": {},
   "outputs": [
    {
     "name": "stdout",
     "output_type": "stream",
     "text": [
      "Primeiro número: 5\n",
      "Segundo número: 2\n",
      "Dividendo: 5\n",
      "Divisor: 2\n",
      "Quociente: 2\n",
      "Resto: 1\n"
     ]
    }
   ],
   "source": [
    "n1 = int(input(\"Primeiro número: \"))\n",
    "n2 = int(input(\"Segundo número: \"))\n",
    "Dividendo = n1\n",
    "Divisor = n2\n",
    "Quociente = (int(Dividendo/Divisor))\n",
    "Resto = (int(Dividendo%Divisor))\n",
    "\n",
    "print(f'Dividendo: {Dividendo}')\n",
    "print(f'Divisor: {Divisor}')\n",
    "print(f'Quociente: {Quociente}')\n",
    "print(f'Resto: {Resto}')"
   ]
  },
  {
   "cell_type": "markdown",
   "metadata": {},
   "source": [
    "9 - 1.0 ponto) Elaborar um algoritmo para ler um número inteiro de 3 casas decimais e imprimir a soma dos algarismos da casa das dezenas e das unidades. Exemplo: 123. A soma dos algarismos da casa das dezenas e das unidades é: 5."
   ]
  },
  {
   "cell_type": "code",
   "execution_count": 15,
   "metadata": {},
   "outputs": [
    {
     "name": "stdout",
     "output_type": "stream",
     "text": [
      "Insira um número: 123\n",
      "A soma dos algarismos da casa das dezenas e das unidades é 5.\n"
     ]
    }
   ],
   "source": [
    "num = int(input(\"Insira um número: \"))\n",
    "n1 = num // 100 % 10\n",
    "n2 = num // 10 % 10\n",
    "n3 = num // 1 % 10\n",
    "soma = n2+n3\n",
    "\n",
    "print(f'A soma dos algarismos da casa das dezenas e das unidades é {soma}.')\n",
    "\n",
    "\n"
   ]
  },
  {
   "cell_type": "markdown",
   "metadata": {},
   "source": [
    "10 - 1.0 ponto) Elaborar um algoritmo para ler as variáveis A e B e efetuar a troca dos valores de forma que a variável A passe a ter o valor da variável B e que a variável B passe a ter o valor da variável A. Apresentar os valores trocados."
   ]
  },
  {
   "cell_type": "code",
   "execution_count": 16,
   "metadata": {},
   "outputs": [
    {
     "name": "stdout",
     "output_type": "stream",
     "text": [
      "Insira a variável A: 2\n",
      "Insira a variável B: 1\n",
      "A = 1.0\n",
      "B = 2.0\n"
     ]
    }
   ],
   "source": [
    "a = float(input(\"Insira a variável A: \"))\n",
    "b = float(input(\"Insira a variável B: \"))\n",
    "a, b = b, a\n",
    "\n",
    "print(\"A =\", a)\n",
    "print(\"B =\", b)\n",
    "\n"
   ]
  },
  {
   "cell_type": "code",
   "execution_count": null,
   "metadata": {},
   "outputs": [],
   "source": []
  }
 ],
 "metadata": {
  "colab": {
   "collapsed_sections": [],
   "name": "Exercícios - Fundamentos de Python.ipynb",
   "provenance": []
  },
  "kernelspec": {
   "display_name": "Python 3 (ipykernel)",
   "language": "python",
   "name": "python3"
  },
  "language_info": {
   "codemirror_mode": {
    "name": "ipython",
    "version": 3
   },
   "file_extension": ".py",
   "mimetype": "text/x-python",
   "name": "python",
   "nbconvert_exporter": "python",
   "pygments_lexer": "ipython3",
   "version": "3.9.7"
  }
 },
 "nbformat": 4,
 "nbformat_minor": 1
}
