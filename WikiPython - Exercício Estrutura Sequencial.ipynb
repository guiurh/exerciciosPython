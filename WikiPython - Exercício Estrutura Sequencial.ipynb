{
 "cells": [
  {
   "cell_type": "code",
   "execution_count": 1,
   "id": "48795ab3",
   "metadata": {},
   "outputs": [
    {
     "name": "stdout",
     "output_type": "stream",
     "text": [
      "Alô mundo.\n"
     ]
    }
   ],
   "source": [
    "print(\"Alô mundo.\")"
   ]
  },
  {
   "cell_type": "code",
   "execution_count": 2,
   "id": "07e522a8",
   "metadata": {},
   "outputs": [
    {
     "name": "stdout",
     "output_type": "stream",
     "text": [
      "Insira um número: 1\n",
      "O número informado foi 1.0\n"
     ]
    }
   ],
   "source": [
    "a = float(input(\"Insira um número: \"))\n",
    "print(f'O número informado foi {a}')"
   ]
  },
  {
   "cell_type": "code",
   "execution_count": 3,
   "id": "d344f9ba",
   "metadata": {},
   "outputs": [
    {
     "name": "stdout",
     "output_type": "stream",
     "text": [
      "Insira um número: 1\n",
      "Insira outro número: 2\n",
      "1.0 + 2.0 = 3.0\n"
     ]
    }
   ],
   "source": [
    "a = float(input(\"Insira um número: \"))\n",
    "b = float(input(\"Insira outro número: \"))\n",
    "soma = a + b\n",
    "print(f'{a} + {b} = {soma}')"
   ]
  },
  {
   "cell_type": "code",
   "execution_count": 5,
   "id": "06ed2ad2",
   "metadata": {},
   "outputs": [
    {
     "name": "stdout",
     "output_type": "stream",
     "text": [
      "Nota 1: 6\n",
      "Nota 2: 6\n",
      "Nota 3: 6\n",
      "Nota 4: 6\n",
      "A média das quatro notas é 6.0\n"
     ]
    }
   ],
   "source": [
    "a = float(input(\"Nota 1: \"))\n",
    "b = float(input(\"Nota 2: \"))\n",
    "c = float(input(\"Nota 3: \"))\n",
    "d = float(input(\"Nota 4: \"))\n",
    "\n",
    "media = (a+b+c+d)/4\n",
    "\n",
    "print(f'A média das quatro notas é {media}')"
   ]
  },
  {
   "cell_type": "code",
   "execution_count": 7,
   "id": "c2da37cf",
   "metadata": {},
   "outputs": [
    {
     "name": "stdout",
     "output_type": "stream",
     "text": [
      "Insira o raio do círculo: 5\n",
      "A área do círculo é  78.54\n"
     ]
    }
   ],
   "source": [
    "from math import pi\n",
    "\n",
    "a = float(input(\"Insira o raio do círculo: \"))\n",
    "\n",
    "area = pi*a**2\n",
    "\n",
    "print(f'A área do círculo é {area: .2f}')"
   ]
  },
  {
   "cell_type": "code",
   "execution_count": 8,
   "id": "d7111abc",
   "metadata": {},
   "outputs": [
    {
     "name": "stdout",
     "output_type": "stream",
     "text": [
      "Insira o valor dos lados do quadrado: 2\n",
      "O dobro da área desse quadrado é 4.0\n"
     ]
    }
   ],
   "source": [
    "a = float(input(\"Insira o valor dos lados do quadrado: \"))\n",
    "quad = a**2\n",
    "\n",
    "print(f'O dobro da área desse quadrado é {quad}')"
   ]
  },
  {
   "cell_type": "code",
   "execution_count": 9,
   "id": "3127cb56",
   "metadata": {},
   "outputs": [
    {
     "name": "stdout",
     "output_type": "stream",
     "text": [
      "Insira quanto você ganha por hora: 5\n",
      "Insira quantas horas você trabalha em um mês: 1\n",
      "O total do seu salário no mês referido é 5.0\n"
     ]
    }
   ],
   "source": [
    "a = float(input(\"Insira quanto você ganha por hora: \"))\n",
    "b = float(input(\"Insira quantas horas você trabalha em um mês: \"))\n",
    "\n",
    "total = b*a\n",
    "\n",
    "print(f'O total do seu salário no mês referido é {total}')"
   ]
  },
  {
   "cell_type": "code",
   "execution_count": 14,
   "id": "a37d2e05",
   "metadata": {},
   "outputs": [
    {
     "name": "stdout",
     "output_type": "stream",
     "text": [
      "Insira a temperatura em °C: 5\n",
      "5.0 °C em Fahrenheit é 41.0 °F\n"
     ]
    }
   ],
   "source": [
    "a = float(input(\"Insira a temperatura em °C: \"))\n",
    "fa = a*1.8+32\n",
    "\n",
    "print(f'{a} °C em Fahrenheit é {fa} °F')"
   ]
  },
  {
   "cell_type": "code",
   "execution_count": 15,
   "id": "8eef1611",
   "metadata": {},
   "outputs": [
    {
     "name": "stdout",
     "output_type": "stream",
     "text": [
      "Insira um número inteiro: 5\n",
      "Insira outro número inteiro: 2\n",
      "Insira um número real: 2\n",
      "O produto do dobro do primeiro com metade do segundo: 10.0\n",
      "A soma do triplo do primeiro com o terceiro: 17.0\n",
      "O terceiro elevado ao cubo: 8.0\n"
     ]
    }
   ],
   "source": [
    "a = int(input(\"Insira um número inteiro: \"))\n",
    "b = int(input(\"Insira outro número inteiro: \"))\n",
    "c = float(input(\"Insira um número real: \"))\n",
    "\n",
    "suba = (a*2)*(b/2)\n",
    "subb = (a*3)+c\n",
    "subc = c**3\n",
    "\n",
    "print(f'O produto do dobro do primeiro com metade do segundo: {suba}')\n",
    "print(f'A soma do triplo do primeiro com o terceiro: {subb}')\n",
    "print(f'O terceiro elevado ao cubo: {subc}')"
   ]
  },
  {
   "cell_type": "code",
   "execution_count": 17,
   "id": "9afad0d5",
   "metadata": {},
   "outputs": [
    {
     "name": "stdout",
     "output_type": "stream",
     "text": [
      "Inwsira a sua altura em metros: 2\n",
      "Seu peso ideal seria 87.4 Kg\n"
     ]
    }
   ],
   "source": [
    "altura = float(input(\"Insira a sua altura em metros: \"))\n",
    "\n",
    "formula = (72.7*altura)-58\n",
    "\n",
    "print(f'Seu peso ideal seria {formula} Kg')"
   ]
  },
  {
   "cell_type": "code",
   "execution_count": 25,
   "id": "2ed20f31",
   "metadata": {},
   "outputs": [
    {
     "name": "stdout",
     "output_type": "stream",
     "text": [
      "Insira a sua altura em metros: 180\n",
      "Você é homem ou mulher? l\n",
      "ERRO. Responda se você é homem ou mulher.\n"
     ]
    }
   ],
   "source": [
    "h = (float(input(\"Insira a sua altura em metros: \")))\n",
    "peso = 0\n",
    "sexo = input(\"Você é homem ou mulher? \")\n",
    "\n",
    "if (sexo == \"Homem\") or (sexo == \"homem\") or (sexo == \"H\") or (sexo == \"h\"):\n",
    "    peso = (72.7*h)-58\n",
    "    print(f'Seu peso ideal é {peso: .2f} Kg.')\n",
    "    \n",
    "elif (sexo == \"Mulher\") or (sexo == \"mulher\") or (sexo == \"M\") or (sexo == \"m\"):\n",
    "    peso = (62.1*h)-44.7\n",
    "    print(f'Seu peso ideal é {peso: .2f} Kg.')\n",
    "\n",
    "else:\n",
    "    print(\"ERRO. Responda se você é homem ou mulher.\")\n",
    "    \n",
    "\n",
    "    \n",
    "    \n",
    "    "
   ]
  },
  {
   "cell_type": "code",
   "execution_count": 1,
   "id": "488d9831",
   "metadata": {},
   "outputs": [
    {
     "name": "stdout",
     "output_type": "stream",
     "text": [
      "Insira o peso de peixes em quilos: 52\n",
      "Peso: 52.0 Kg.\n",
      "Excesso: 2.0 Kg.\n",
      "Multa: 8.0R$.\n"
     ]
    }
   ],
   "source": [
    "peso = float(input(\"Insira o peso de peixes em quilos: \"))\n",
    "excesso = 0\n",
    "multa = 0\n",
    "\n",
    "if (peso > 50):\n",
    "    excesso = peso - 50\n",
    "    multa = excesso * 4\n",
    "    print(f'Peso: {peso} Kg.')\n",
    "    print(f'Excesso: {excesso} Kg.')\n",
    "    print(f'Multa: {multa}R$.')\n",
    "\n",
    "else:\n",
    "    print(f'Peso: {peso} Kg.')\n",
    "    print('Excesso: 0 Kg.')\n",
    "    print('Multa: 0R$.')\n",
    "\n"
   ]
  },
  {
   "cell_type": "code",
   "execution_count": 37,
   "id": "213d469c",
   "metadata": {},
   "outputs": [
    {
     "name": "stdout",
     "output_type": "stream",
     "text": [
      "Insira quanto você ganha por hora: 50\n",
      "Insira quantas horas você trabalha em um mês: 80\n",
      "Salário bruto: 4000.0R$.\n",
      "IR (11%): 440.0R$.\n",
      "INSS (8%): 320.0R$.\n",
      "Sindicato (5%): 200.0R$.\n",
      "Salário Líquido: 3040.0R$. \n"
     ]
    }
   ],
   "source": [
    "a = float(input(\"Insira quanto você ganha por hora: \"))\n",
    "b = float(input(\"Insira quantas horas você trabalha em um mês: \"))\n",
    "\n",
    "salariob = b*a\n",
    "ir = (salariob*11)/100\n",
    "inss = (salariob*8)/100\n",
    "sindicato = (salariob*5)/100\n",
    "salariol = salariob - ir - inss - sindicato\n",
    "\n",
    "\n",
    "print(f'Salário bruto: {salariob}R$.')\n",
    "print(f'IR (11%): {ir}R$.')\n",
    "print(f'INSS (8%): {inss}R$.')\n",
    "print(f'Sindicato (5%): {sindicato}R$.')\n",
    "print(f'Salário Líquido: {salariol}R$. ')\n"
   ]
  },
  {
   "cell_type": "code",
   "execution_count": 2,
   "id": "3708428a",
   "metadata": {},
   "outputs": [
    {
     "name": "stdout",
     "output_type": "stream",
     "text": [
      "Insira quantos metros  quadrados possui a área que deseja pintar: 1\n",
      "Quantidade de tinta necessária: 6.0L.\n",
      "Valor comprando tudo apenas em latas de 18 litros:  13.33R$.\n",
      "Valor comprando tudo apenas em galões de 3,6 litros:  4.17R$.\n",
      "Misturando latas e galões:  15.75R$.\n"
     ]
    }
   ],
   "source": [
    "a = float(input(\"Insira quantos metros  quadrados possui a área que deseja pintar: \"))\n",
    "quant = a * 6\n",
    "dezoito =  80/quant\n",
    "tresvirg =  25/quant\n",
    "mistura = dezoito + tresvirg\n",
    "porcmistura = mistura*10/100\n",
    "desconto = mistura - porcmistura\n",
    "\n",
    "print(f'Quantidade de tinta necessária: {quant}L.')\n",
    "print(f'Valor comprando tudo apenas em latas de 18 litros: {dezoito: .2f}R$.')\n",
    "print(f'Valor comprando tudo apenas em galões de 3,6 litros: {tresvirg: .2f}R$.')\n",
    "print(f'Misturando latas e galões: {desconto: .2f}R$.')"
   ]
  },
  {
   "cell_type": "code",
   "execution_count": 51,
   "id": "a70c39f7",
   "metadata": {},
   "outputs": [
    {
     "name": "stdout",
     "output_type": "stream",
     "text": [
      "Insira o tamanho do arquivo que deseja baixar em MB: 500\n",
      "Insira a velocidade da sua internet em Mbps: 2\n",
      "Seu download ficará pronto em  4.17 minutos.\n"
     ]
    }
   ],
   "source": [
    "a = float(input(\"Insira o tamanho do arquivo que deseja baixar em MB: \"))\n",
    "b = float(input(\"Insira a velocidade da sua internet em Mbps: \"))\n",
    "\n",
    "tempo = a/b\n",
    "minuto = tempo/60\n",
    "\n",
    "print(f'Seu download ficará pronto em {minuto: .2f} minutos.')"
   ]
  },
  {
   "cell_type": "code",
   "execution_count": null,
   "id": "a17de831",
   "metadata": {},
   "outputs": [],
   "source": []
  }
 ],
 "metadata": {
  "kernelspec": {
   "display_name": "Python 3 (ipykernel)",
   "language": "python",
   "name": "python3"
  },
  "language_info": {
   "codemirror_mode": {
    "name": "ipython",
    "version": 3
   },
   "file_extension": ".py",
   "mimetype": "text/x-python",
   "name": "python",
   "nbconvert_exporter": "python",
   "pygments_lexer": "ipython3",
   "version": "3.9.7"
  }
 },
 "nbformat": 4,
 "nbformat_minor": 5
}
